{
 "cells": [
  {
   "cell_type": "markdown",
   "id": "c3b6f999-ca13-4d86-a2e7-1b113b3a1580",
   "metadata": {},
   "source": [
    "# Basic preparations"
   ]
  },
  {
   "cell_type": "markdown",
   "id": "a95992b8-be42-4339-bc9f-06209234da9b",
   "metadata": {},
   "source": [
    "In this Notebook, the geospatial fabric for the \"Bow River at Banff\" gauge is extracted from the `MERIT-Basins` dataset."
   ]
  },
  {
   "cell_type": "markdown",
   "id": "ebcd0062-78ba-43ec-b06d-bcf4fcd2fed3",
   "metadata": {},
   "source": [
    "If you are using Graham HPC, and have access to Clark's Research Group allocation (`rrg-mclark`), you may find `MERIT-Basins` layers under the following path:</br>\n",
    "`/project/rrg-mclark/data/geospatial-data/MERIT-Basins/`"
   ]
  },
  {
   "cell_type": "markdown",
   "id": "547f6178-7d12-436b-bba4-d7b86fee3cd2",
   "metadata": {},
   "source": [
    "If you are using Graham HPC, and have access to Global Water Futures Observatories allocation (`rpp-kshook`), you may find `MERIT-Basins` layers under the following path:</br>\n",
    "`/project/rpp-kshook/Climate_Forcing_Data/geospatial-data/MERIT-Basins`"
   ]
  },
  {
   "cell_type": "markdown",
   "id": "62251bcc-3a44-422e-b90d-4af375051974",
   "metadata": {},
   "source": [
    "The version used is `MERIT_Hydro_v07_Basins_v01_bugfix1` which is a directory under the root directory of the dataset."
   ]
  },
  {
   "cell_type": "markdown",
   "id": "dd3e2ec2-5b46-4d26-a79d-ba594fa69e7f",
   "metadata": {},
   "source": [
    "Let's get started with our workflow and import necessary Python libraries:"
   ]
  },
  {
   "cell_type": "code",
   "execution_count": 1,
   "id": "1db84867-8c2a-4128-81cd-e34619ee13f8",
   "metadata": {},
   "outputs": [],
   "source": [
    "import geopandas as gpd # version 0.14.0\n",
    "import pandas as pd # version 1.4.0\n",
    "import numpy as np # version 1.22.2\n",
    "import matplotlib.pyplot as plt # version 3.5.1\n",
    "\n",
    "from shapely.geometry import Point # version 2.0.1\n",
    "\n",
    "import hydrant.topology.geom as gm # version 0.1.0-dev1\n",
    "\n",
    "import subprocess # built-in Python 3.10.2\n",
    "import os # built-in Python 3.10.2\n",
    "import glob # built-in Python 3.10.2"
   ]
  },
  {
   "cell_type": "markdown",
   "id": "8524346b-893d-4133-92b5-55f450d472dd",
   "metadata": {},
   "source": [
    "`Hydrant` is important in this Notebook. We are only using the `topology.geom`etry module."
   ]
  },
  {
   "cell_type": "markdown",
   "id": "9e435c67-cb00-4058-b83d-ec1528d1ba9b",
   "metadata": {},
   "source": [
    "Path definitions (system dependant - modify accordingly):"
   ]
  },
  {
   "cell_type": "code",
   "execution_count": 4,
   "id": "574c276b-ded3-4baa-8c24-bbed210a20e5",
   "metadata": {
    "tags": []
   },
   "outputs": [],
   "source": [
    "# geofabric paths\n",
    "## merit-basins provided in `rrg-mclark` - modify as needed\n",
    "# merit_basins_root_path = '/project/rrg-mclark/data/geospatial-data/MERIT-Basins/MERIT_Hydro_v07_Basins_v01_bugfix1'\n",
    "merit_basins_root_path = '/project/rpp-kshook/Climate_Forcing_Data/geospatial-data/MERIT-Basins/MERIT_Hydro_v07_Basins_v01_bugfix1'\n",
    "merit_basins_geom_path = os.path.join(merit_basins_root_path, 'pfaf_level_02')\n",
    "merit_basins_nca_path = os.path.join(merit_basins_root_path, 'coastal_hillslopes')\n",
    "\n",
    "# output paths\n",
    "output_path = './SCRB-geofabric/'"
   ]
  },
  {
   "cell_type": "markdown",
   "id": "62175c5e-ea00-4dee-a75a-85d1fd505ed5",
   "metadata": {},
   "source": [
    "# Reading `MERIT-Basins` Geospatial Fabric Dataset"
   ]
  },
  {
   "cell_type": "markdown",
   "id": "446ce701-045a-4fb9-800e-b3be8a2c266c",
   "metadata": {},
   "source": [
    "## `MERIT-Basins` Geospatial Layers"
   ]
  },
  {
   "cell_type": "markdown",
   "id": "b15b0634-e6eb-42bf-a40d-3e50ad522083",
   "metadata": {},
   "source": [
    "Upon **visual** inspection (you may use `QGIS` or similar programs), layer #71 has been identified to include necessary sub-basins and river segments for the Bow River at Banff watershed:"
   ]
  },
  {
   "cell_type": "markdown",
   "id": "d09e83da-bc0d-417a-8675-f40828bb5329",
   "metadata": {},
   "source": [
    "As you may see in the cell below, we are using Python `list`s to enable reading multiple layers at once. There are cases where a basin of interest is shared between multiple `pfaf` layers."
   ]
  },
  {
   "cell_type": "markdown",
   "id": "3a58e0a6-f839-4414-9e63-5a5ab0bcfa45",
   "metadata": {},
   "source": [
    "For now, let's read the files, one by one:"
   ]
  },
  {
   "cell_type": "code",
   "execution_count": 5,
   "id": "4f745271-1067-4d37-915c-87c628a90265",
   "metadata": {
    "tags": []
   },
   "outputs": [],
   "source": [
    "# file names\n",
    "# catchments (subbasin)\n",
    "cat_files = [\n",
    "    'cat_pfaf_71_MERIT_Hydro_v07_Basins_v01_bugfix1.shp',\n",
    "]\n",
    "# rivers (river segments)\n",
    "riv_files = [\n",
    "    'riv_pfaf_71_MERIT_Hydro_v07_Basins_v01_bugfix1.shp',\n",
    "]\n",
    "# non-contributing catchments (those without any river segments defined for them)\n",
    "nca_files = [\n",
    "    'hillslope_71_clean.shp',\n",
    "]\n",
    "\n",
    "# reading in data in an iterative manner\n",
    "cat = pd.concat([gpd.read_file(os.path.join(merit_basins_geom_path, f)) for f in cat_files])\n",
    "riv = pd.concat([gpd.read_file(os.path.join(merit_basins_geom_path, f)) for f in riv_files])\n",
    "nca = pd.concat([gpd.read_file(os.path.join(merit_basins_nca_path, f)) for f in nca_files])"
   ]
  },
  {
   "cell_type": "markdown",
   "id": "ff50bb1c-f495-4b4d-850b-1ccbac89a084",
   "metadata": {},
   "source": [
    "Since `MERIT-Basins` layers do not come with correct Coordinate Reference System (CRS) information, we need to specify this manually. The `EPSG` code for the `MERIT-Basins` layer is `4326`. Please refer to the following for more information: https://en.wikipedia.org/wiki/EPSG_Geodetic_Parameter_Dataset"
   ]
  },
  {
   "cell_type": "code",
   "execution_count": 9,
   "id": "0ef0b85b-a710-42c3-8a6d-e23a16ae0b28",
   "metadata": {},
   "outputs": [
    {
     "name": "stdout",
     "output_type": "stream",
     "text": [
      "`cat` CRS: epsg:4326\n",
      "`riv` CRS: epsg:4326\n",
      "`nca` CRS: epsg:4326\n"
     ]
    }
   ],
   "source": [
    "# specifying epsg:4326 for all the MERIT-Basins layers\n",
    "cat.set_crs(epsg=4326, inplace=True)\n",
    "nca.set_crs(epsg=4326, inplace=True)\n",
    "riv.set_crs(epsg=4326, inplace=True)\n",
    "\n",
    "# Show the EPSG of all geospatial layers\n",
    "print(f'`cat` CRS: {cat.crs}')\n",
    "print(f'`riv` CRS: {riv.crs}')\n",
    "print(f'`nca` CRS: {nca.crs}')"
   ]
  },
  {
   "cell_type": "markdown",
   "id": "153117b7-4c34-42bb-8797-fce05c43d11d",
   "metadata": {},
   "source": [
    "## Bow River At Banff Hydrometric Gauge Location"
   ]
  },
  {
   "cell_type": "markdown",
   "id": "11b77acd-8697-4688-a282-bb00df067398",
   "metadata": {},
   "source": [
    "Based on the information provided by the Water Survery of Canada (WSC), the latitude and longitude of this hydrometric gauge is as follows:\n",
    "\n",
    "* Latitude:   `51.172397`\n",
    "* Longitude: `-115.571645`"
   ]
  },
  {
   "cell_type": "markdown",
   "id": "f93c0cf5-9994-4349-84a6-38776dcc2e00",
   "metadata": {},
   "source": [
    "Based on the information above, we use `hydrant` to extract all the river segment of sub-basins upstream of the coordinates above."
   ]
  },
  {
   "cell_type": "markdown",
   "id": "44d7704c-bf2e-4b71-9d36-5613d4b3a25b",
   "metadata": {},
   "source": [
    "# Preparing `cat`, `riv`, and `nca` objects for `Bow River at Banff`"
   ]
  },
  {
   "cell_type": "markdown",
   "id": "b7d09b25-eb34-48ac-bc49-eeb92e475b52",
   "metadata": {},
   "source": [
    "## Preparing `MERIT-Basins` Layers"
   ]
  },
  {
   "cell_type": "markdown",
   "id": "b048cc8d-5c2f-4274-8201-861c7b311d78",
   "metadata": {},
   "source": [
    "Before subsetting the entire layer #71 of the `MERIT-Basins` dataset, we have to assure the layers are ready to be further processed by the `Hydrant` package. Fortunately, `Hydrant` provides necessary functionalities to work with this specific geospatial fabric (applicable to any geospatial fabric in reality). "
   ]
  },
  {
   "cell_type": "markdown",
   "id": "d03fd658-5f89-462b-be7c-7af5c39c6d07",
   "metadata": {},
   "source": [
    "In doing so, Hydrant's `geom` module provides the `prepare_cat(...)` function to prepare the `MERIT-Basins` geosptial fabric's sub-basins (or catchments) for the next post-processing steps. Please note that since the non-contributing areas (`nca`) are technically considered sub-basins, they are taken care of using this functionality of `Hydrant`:"
   ]
  },
  {
   "cell_type": "code",
   "execution_count": 10,
   "id": "d8b9d374-6e79-4ddc-8642-da1505d4a5a0",
   "metadata": {},
   "outputs": [],
   "source": [
    "# Hydrant's `geom` module provides the `prepare_cat`\n",
    "# function to prepare the `MERIT-Basins` geosptial\n",
    "# fabric for next post-processing steps\n",
    "\n",
    "catchments = gm.prepare_cat(\n",
    "    cat=cat, # \n",
    "    cat_col_id='COMID',\n",
    "    cst=nca,\n",
    "    cst_col_mapper={'FID':'COMID'},\n",
    "    cst_col_id='COMID'\n",
    ")\n",
    "\n",
    "# You may see the \"docstring\" of the `gm.prepare_cat`\n",
    "# function by running:\n",
    "# >>> gm.prepare_cat?\n",
    "# in a separate Jupyter cell (without the >>>), or by\n",
    "# running simply:\n",
    "# >>> print(gm.prepare_cat.__doc__)"
   ]
  },
  {
   "cell_type": "markdown",
   "id": "0204da32-fb52-497a-9e38-0ce520d0a32f",
   "metadata": {},
   "source": [
    "Similarly, the `geom` module provides the `prepare_riv(...)` function to prepare the `MERIT-Basins` geospatial fabric's river segments for the next post-processing steps:"
   ]
  },
  {
   "cell_type": "code",
   "execution_count": 11,
   "id": "e471525f-1c5c-452e-81b2-552e5fbf4bf1",
   "metadata": {
    "tags": []
   },
   "outputs": [],
   "source": [
    "# Similarly, the `geom` module provides the\n",
    "# `prepare_riv` function to prepare the `MERIT-Basins`\n",
    "# geospatial fabric's river segments for the next\n",
    "# post-processing steps:\n",
    "\n",
    "rivers = gm.prepare_riv(\n",
    "    riv=riv,\n",
    "    riv_cols={\n",
    "        'id':'COMID',\n",
    "        'next_id':'NextDownID',\n",
    "        'slope':'slope',\n",
    "        'length':'lengthkm',\n",
    "        'length_direct':'lengthdir'\n",
    "    },\n",
    "    cat=catchments,\n",
    "    cat_cols={\n",
    "        'id':'COMID',\n",
    "        'hillslope':'hillslope',\n",
    "        'geom':'geometry'\n",
    "    }\n",
    ")\n",
    "\n",
    "# You may see the \"docstring\" of the `gm.prepare_riv`\n",
    "# function by running:\n",
    "# >>> gm.prepare_riv?\n",
    "# in a separate Jupyter cell (without the >>>), or by\n",
    "# running simply:\n",
    "# >>> print(gm.prepare_riv.__doc__)"
   ]
  },
  {
   "cell_type": "markdown",
   "id": "cb80b0f2-9c8d-4564-9c9c-68bc21ac6676",
   "metadata": {},
   "source": [
    "In Python, you may always access the \"docstring\" documentations for the functions and classes by running:\n",
    "\n",
    "```python\n",
    ">>> print(func.__doc__)\n",
    "```\n",
    "\n",
    "Or, if you are working in the Jupyter environment, you may simply run the following in a separate Jupyter cell:\n",
    "```ipython\n",
    "[ln1] func?\n",
    "```\n",
    "\n",
    "If you are interested in reading up on the functionality of each function used above, use the mentioned methods to print the \"docstrings\"."
   ]
  },
  {
   "cell_type": "markdown",
   "id": "00006a04-7669-4d6f-b14e-da3597708001",
   "metadata": {},
   "source": [
    "Therefore, if you would like to read up on the `gm.prepare_cat(...)` or `gm.prepare_riv(...)` functionality, simply uncomment and execute the following cell:"
   ]
  },
  {
   "cell_type": "code",
   "execution_count": 12,
   "id": "00d250e0-c0d5-4d0b-8068-a1ea9d443327",
   "metadata": {},
   "outputs": [],
   "source": [
    "# gm.prepare_cat?"
   ]
  },
  {
   "cell_type": "code",
   "execution_count": 13,
   "id": "ba4c646a-7843-449a-9907-81e0243e18e4",
   "metadata": {},
   "outputs": [],
   "source": [
    "# gm.prepare_riv?"
   ]
  },
  {
   "cell_type": "markdown",
   "id": "430ee1c8-44ec-4f6b-8e1f-27fdb8b12369",
   "metadata": {
    "tags": []
   },
   "source": [
    "## Subsetting Sub-basins and River Segments Upstream of the `Bow River at Banff` Hydrometric Station"
   ]
  },
  {
   "cell_type": "markdown",
   "id": "1422e44d-a2cc-4917-a1f3-b61e233fc3bc",
   "metadata": {},
   "source": [
    "First, we need to find the `MERIT-Basins`'s sub-basin where this gauge is located. We use `geopandas` capability to do a quick intersection between the two layers (`MERIT-Basins` sub-basins (Multi-)Polygons and `Bow River at Banff` gauge Point)."
   ]
  },
  {
   "cell_type": "markdown",
   "id": "64e52f95-4797-4e02-bf34-bafe8517ec19",
   "metadata": {},
   "source": [
    "Based on the information provided earlier, the latitude and longitude of this hydrometric gauge is as follows:\n",
    "\n",
    "* Latitude:   `51.172397`\n",
    "* Longitude: `-115.571645`"
   ]
  },
  {
   "cell_type": "code",
   "execution_count": 14,
   "id": "731c4120-5831-47b9-9715-806e563847ba",
   "metadata": {},
   "outputs": [
    {
     "data": {
      "image/svg+xml": [
       "<svg xmlns=\"http://www.w3.org/2000/svg\" xmlns:xlink=\"http://www.w3.org/1999/xlink\" width=\"100.0\" height=\"100.0\" viewBox=\"-116.571645 50.172397 2.0 2.0\" preserveAspectRatio=\"xMinYMin meet\"><g transform=\"matrix(1,0,0,-1,0,102.344794)\"><circle cx=\"-115.571645\" cy=\"51.172397\" r=\"0.06\" stroke=\"#555555\" stroke-width=\"0.02\" fill=\"#66cc99\" opacity=\"0.6\" /></g></svg>"
      ],
      "text/plain": [
       "<POINT (-115.572 51.172)>"
      ]
     },
     "execution_count": 14,
     "metadata": {},
     "output_type": "execute_result"
    }
   ],
   "source": [
    "# latitude and longitude values for the\n",
    "# `Bow River at Banff` Hydrometric gauge\n",
    "latitude = 51.172397\n",
    "longitude = -115.571645\n",
    "\n",
    "# create a Point object\n",
    "point = Point(longitude, latitude)\n",
    "\n",
    "# show the `point`\n",
    "point"
   ]
  },
  {
   "cell_type": "code",
   "execution_count": 15,
   "id": "70360471-8052-4036-b9a9-817d8ca61277",
   "metadata": {},
   "outputs": [
    {
     "name": "stdout",
     "output_type": "stream",
     "text": [
      "POINT (-115.571645 51.172397)\n"
     ]
    }
   ],
   "source": [
    "print(point)"
   ]
  },
  {
   "cell_type": "markdown",
   "id": "7c42425f-6eb0-4002-b3a9-13bc9fd67e67",
   "metadata": {},
   "source": [
    "Upon building this layer containing only 1 point, let's find the sub-basin that this gauge intersects with:"
   ]
  },
  {
   "cell_type": "code",
   "execution_count": 16,
   "id": "29be23c2-fba2-4132-a991-e5d692c4b252",
   "metadata": {},
   "outputs": [
    {
     "data": {
      "text/html": [
       "<div>\n",
       "<style scoped>\n",
       "    .dataframe tbody tr th:only-of-type {\n",
       "        vertical-align: middle;\n",
       "    }\n",
       "\n",
       "    .dataframe tbody tr th {\n",
       "        vertical-align: top;\n",
       "    }\n",
       "\n",
       "    .dataframe thead th {\n",
       "        text-align: right;\n",
       "    }\n",
       "</style>\n",
       "<table border=\"1\" class=\"dataframe\">\n",
       "  <thead>\n",
       "    <tr style=\"text-align: right;\">\n",
       "      <th></th>\n",
       "      <th>COMID</th>\n",
       "      <th>unitarea</th>\n",
       "      <th>geometry</th>\n",
       "      <th>hillslope</th>\n",
       "    </tr>\n",
       "  </thead>\n",
       "  <tbody>\n",
       "    <tr>\n",
       "      <th>28584</th>\n",
       "      <td>71028585</td>\n",
       "      <td>6.241355</td>\n",
       "      <td>POLYGON ((-115.57292 51.18542, -115.57208 51.1...</td>\n",
       "      <td>0</td>\n",
       "    </tr>\n",
       "  </tbody>\n",
       "</table>\n",
       "</div>"
      ],
      "text/plain": [
       "          COMID  unitarea                                           geometry  \\\n",
       "28584  71028585  6.241355  POLYGON ((-115.57292 51.18542, -115.57208 51.1...   \n",
       "\n",
       "       hillslope  \n",
       "28584          0  "
      ]
     },
     "execution_count": 16,
     "metadata": {},
     "output_type": "execute_result"
    }
   ],
   "source": [
    "catchments[catchments.intersects(point)]"
   ]
  },
  {
   "cell_type": "markdown",
   "id": "21d28b90-ad62-4531-8966-1d0fd0499749",
   "metadata": {},
   "source": [
    "Based on the command above, the sub-basin with `COMID` value of `71028585` intersects with the point coordinates of the Bow River at Banff hydrometric gauge.\n",
    "\n",
    "We may proceed by using the `intersect_topology` to extract whatever located upstream of the sub-basin (and river segment) with `COMID` value of `71028585`."
   ]
  },
  {
   "cell_type": "code",
   "execution_count": 17,
   "id": "c618adb8-5acc-4100-920f-82f414284a56",
   "metadata": {},
   "outputs": [],
   "source": [
    "# `bb` stands for `Bow at Banff`:\n",
    "bb_catchments, bb_rivers = gm.intersect_topology(\n",
    "    cat=catchments,\n",
    "    cat_cols={\n",
    "        'id':'COMID'\n",
    "    },\n",
    "    riv=rivers,\n",
    "    riv_cols={\n",
    "        'id':'COMID',\n",
    "        'next_id':'NextDownID'\n",
    "    },\n",
    "    outlet_id=[71028585])"
   ]
  },
  {
   "cell_type": "markdown",
   "id": "629400c3-402e-49fa-ac3d-13fac7956e40",
   "metadata": {},
   "source": [
    "Now, let's plot what have extracted from the larger `MERIT-Basins` geospatial fabric:"
   ]
  },
  {
   "cell_type": "code",
   "execution_count": 18,
   "id": "6c9f3610-f994-4795-91ef-84848c2442a5",
   "metadata": {
    "tags": []
   },
   "outputs": [
    {
     "data": {
      "text/plain": [
       "<matplotlib.collections.PathCollection at 0x2ac6d48c2e60>"
      ]
     },
     "execution_count": 18,
     "metadata": {},
     "output_type": "execute_result"
    },
    {
     "data": {
      "image/png": "[encoded data removed]",
      "text/plain": [
       "<Figure size 800x800 with 1 Axes>"
      ]
     },
     "metadata": {},
     "output_type": "display_data"
    }
   ],
   "source": [
    "fig, ax = plt.subplots(\n",
    "    nrows=1,\n",
    "    ncols=1,\n",
    "    figsize=(8, 8)\n",
    ")\n",
    "\n",
    "# sub-basins\n",
    "bb_catchments.plot(ax=ax, color='gray', edgecolor='black', alpha=0.8, zorder=1)\n",
    "# river segments\n",
    "bb_rivers.plot(ax=ax, color='blue', alpha=1, zorder=2)\n",
    "# gauge location\n",
    "ax.scatter(point.x, point.y, color='red', alpha=0.8, zorder=3)"
   ]
  },
  {
   "cell_type": "markdown",
   "id": "78a19990-cd78-44d1-94fc-02b70bd830c7",
   "metadata": {},
   "source": [
    "# Saving Extracted Geospatial Fabric upstream of Bow River at Banff Hydrometric Station"
   ]
  },
  {
   "cell_type": "code",
   "execution_count": 19,
   "id": "31015b40-ea8a-49f2-87b6-1eeaed08b720",
   "metadata": {},
   "outputs": [],
   "source": [
    "# saving the results into the `output_path` directory\n",
    "\n",
    "# first, creating the directory\n",
    "try:\n",
    "    os.makedirs(output_path)\n",
    "except FileExistsError:\n",
    "    pass\n",
    "\n",
    "# then, saving the data\n",
    "bb_catchments.to_file(os.path.join(output_path, 'bb_subbasins.shp'))\n",
    "bb_rivers.to_file(os.path.join(output_path, 'bb_rivers.shp'))"
   ]
  },
  {
   "cell_type": "markdown",
   "id": "82e05a57-93f5-4ab7-a75e-a705aea51c1b",
   "metadata": {},
   "source": [
    "___"
   ]
  },
  {
   "cell_type": "markdown",
   "id": "7f5f8793-9913-4983-adb6-ad8a0b5962e2",
   "metadata": {},
   "source": [
    "If you face any issues, e-mail [kasra.keshavarz1 AT ucalgary DOT ca](mailto:kasra.keshavarz1@ucalgary.ca)."
   ]
  },
  {
   "cell_type": "code",
   "execution_count": null,
   "id": "af57b331-4234-4cc4-af21-035e18c0c911",
   "metadata": {},
   "outputs": [],
   "source": []
  }
 ],
 "metadata": {
  "kernelspec": {
   "display_name": "scienv",
   "language": "python",
   "name": "scienv"
  },
  "language_info": {
   "codemirror_mode": {
    "name": "ipython",
    "version": 3
   },
   "file_extension": ".py",
   "mimetype": "text/x-python",
   "name": "python",
   "nbconvert_exporter": "python",
   "pygments_lexer": "ipython3",
   "version": "3.10.2"
  },
  "toc-autonumbering": true,
  "toc-showcode": false
 },
 "nbformat": 4,
 "nbformat_minor": 5
}
