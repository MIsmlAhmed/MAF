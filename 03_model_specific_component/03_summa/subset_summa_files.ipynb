{
 "cells": [
  {
   "cell_type": "markdown",
   "id": "074047f1-49f1-497f-9703-f2b0abad371a",
   "metadata": {},
   "source": [
    "# Subsetting summa input files by selecting a specific hruId\n",
    "This is optional if you want to select a subset hru from the entire domain.\n",
    "Needs to run `write_summa_files.ipynb` first to generate summa's inputs."
   ]
  },
  {
   "cell_type": "code",
   "execution_count": 66,
   "id": "afe69d3e-4de2-4d18-8473-a609b0fa67ee",
   "metadata": {},
   "outputs": [],
   "source": [
    "# packages are loaded\n",
    "from summaflow import *"
   ]
  },
  {
   "cell_type": "code",
   "execution_count": 67,
   "id": "f55e7907-d9f1-4a10-af93-d95b695623e9",
   "metadata": {},
   "outputs": [],
   "source": [
    "# inputs\n",
    "# Set the folder path where the remapped .nc file is located for MESH (it can be any remapped nc file)\n",
    "summa_input_path = '/scratch/mia725/SCRB/SUMMA/'\n",
    "subset_output_path = '/scratch/mia725/SCRB/SUMMA-subset/'\n",
    "hruId = [71034539] # required hruId for subsetting"
   ]
  },
  {
   "cell_type": "markdown",
   "id": "bf783ae5-a8df-4564-b2f4-514f36fa1d95",
   "metadata": {},
   "source": [
    "# Start subsetting"
   ]
  },
  {
   "cell_type": "code",
   "execution_count": 6,
   "id": "89360c35-f22e-4ab0-a86c-e93251da95f2",
   "metadata": {},
   "outputs": [],
   "source": [
    "if not os.path.isdir(subset_output_path):\n",
    "    os.makedirs(subset_output_path)"
   ]
  },
  {
   "cell_type": "code",
   "execution_count": 75,
   "id": "43181ffc-0dc1-4f58-9622-96c5beae765e",
   "metadata": {},
   "outputs": [],
   "source": [
    "forcing = xr.open_dataset(summa_input_path+'summa_forcing.nc')\n",
    "# select a specific hru and save to subset folder\n",
    "forcing.sel(hru=hruId).to_netcdf(subset_output_path+'summa_forcing.nc')\n",
    "\n",
    "\n",
    "# replace T in the time unit with space\n",
    "\n",
    "ncid = nc4.Dataset(subset_output_path + 'summa_forcing.nc', 'r+')\n",
    "\n",
    "# Access the 'units' attribute and replace 'T' with a space\n",
    "units_attribute = ncid['time'].units\n",
    "units_attribute = units_attribute.replace('T', ' ')\n",
    "\n",
    "# Update the 'units' attribute in the netCDF file\n",
    "ncid['time'].setncattr('units', units_attribute)\n",
    "\n",
    "# Close the netCDF file\n",
    "ncid.close()"
   ]
  },
  {
   "cell_type": "markdown",
   "id": "7adf003a-0704-4e8d-8aec-2f6f063a3053",
   "metadata": {},
   "source": [
    "# write attribute nc file"
   ]
  },
  {
   "cell_type": "code",
   "execution_count": 74,
   "id": "3eee5f11-c28a-4ef5-b6b3-e864ecaeffa1",
   "metadata": {},
   "outputs": [],
   "source": [
    "attr = xr.open_dataset(summa_input_path+'summa_zLocalAttributes.nc')\n",
    "# attr_subset = attr.sel(hru=hruId, gru=hruId)#.to_netcdf(subset_output_path+'summa_zLocalAttributes.nc')\n",
    "\n",
    "# Create a dictionary to store the first value of each variable that lacks coordinates or dimensions\n",
    "attr_subset = xr.Dataset()\n",
    "\n",
    "for var_name in list(attr.keys()):\n",
    "    dim_name = 'hru'\n",
    "    if var_name == 'gruId':\n",
    "        dim_name = 'gru'\n",
    "    # Select the first value\n",
    "    attr_subset[var_name] = xr.DataArray([attr[var_name].values[-1]], dims = (dim_name))  # Using item() to get the scalar value\n",
    "\n",
    "# manually change certain values\n",
    "attr_subset['hruId'][0] = attr_subset['gruId'][0] = attr_subset['hru2gruId'][0] = 71034539\n",
    "attr_subset['HRUarea'][0] = attr['HRUarea'].values.sum()\n",
    "attr_subset['contourLength'][0] = 42525.702\n",
    "attr_subset.to_netcdf(subset_output_path+'summa_zLocalAttributes.nc')"
   ]
  },
  {
   "cell_type": "markdown",
   "id": "980938c6-7d61-4d29-a69a-cf0c55e760df",
   "metadata": {},
   "source": [
    "# write ParamTrial file\n",
    "This file only includes the hruId and the parameters are read from lookup tables."
   ]
  },
  {
   "cell_type": "code",
   "execution_count": 51,
   "id": "3af156b3-9e9a-4058-a991-79822703a793",
   "metadata": {},
   "outputs": [],
   "source": [
    "parTrial = xr.open_dataset(summa_input_path+'summa_zParamTrial.nc')\n",
    "parTrial.sel(hru=hruId).to_netcdf(subset_output_path+'summa_zParamTrial.nc')"
   ]
  },
  {
   "cell_type": "markdown",
   "id": "07e339e8-1961-494e-bbd2-25536b0c4b9f",
   "metadata": {},
   "source": [
    "# write intialCondition file"
   ]
  },
  {
   "cell_type": "code",
   "execution_count": 53,
   "id": "e866488c-388f-43ba-a7bc-dc2b9d50a294",
   "metadata": {},
   "outputs": [],
   "source": [
    "initCond = xr.open_dataset(summa_input_path+'summa_zInitialCond.nc')\n",
    "initCond.sel(hru=hruId).to_netcdf(subset_output_path+'summa_zInitialCond.nc')"
   ]
  },
  {
   "cell_type": "markdown",
   "id": "1afda309-48b0-457d-9697-84856092035e",
   "metadata": {},
   "source": [
    "# write fileManager"
   ]
  },
  {
   "cell_type": "code",
   "execution_count": 54,
   "id": "25532ede-5e21-41ea-9c96-0ae769ed6d90",
   "metadata": {},
   "outputs": [],
   "source": [
    "write_summa_filemanager(subset_output_path, forcing)"
   ]
  },
  {
   "cell_type": "markdown",
   "id": "4692ced5-f7ff-4e48-a17c-0c1d9de5a9b7",
   "metadata": {},
   "source": [
    "# copy setting and static files"
   ]
  },
  {
   "cell_type": "code",
   "execution_count": 55,
   "id": "c22e6323-b014-4c2b-9df4-7d27926ed685",
   "metadata": {},
   "outputs": [],
   "source": [
    "copy_summa_static_files(subset_output_path)"
   ]
  },
  {
   "cell_type": "code",
   "execution_count": null,
   "id": "d0fd89b0-a073-4887-8a15-c6a0c6ec4e22",
   "metadata": {},
   "outputs": [],
   "source": []
  }
 ],
 "metadata": {
  "kernelspec": {
   "display_name": "scienv",
   "language": "python",
   "name": "scienv"
  },
  "language_info": {
   "codemirror_mode": {
    "name": "ipython",
    "version": 3
   },
   "file_extension": ".py",
   "mimetype": "text/x-python",
   "name": "python",
   "nbconvert_exporter": "python",
   "pygments_lexer": "ipython3",
   "version": "3.10.2"
  }
 },
 "nbformat": 4,
 "nbformat_minor": 5
}
