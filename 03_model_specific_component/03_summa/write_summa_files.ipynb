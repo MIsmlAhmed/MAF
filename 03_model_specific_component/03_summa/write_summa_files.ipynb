{
 "cells": [
  {
   "cell_type": "code",
   "execution_count": 1,
   "id": "afe69d3e-4de2-4d18-8473-a609b0fa67ee",
   "metadata": {},
   "outputs": [],
   "source": [
    "# packages are loaded\n",
    "from summaflow import *"
   ]
  },
  {
   "cell_type": "code",
   "execution_count": 3,
   "id": "f55e7907-d9f1-4a10-af93-d95b695623e9",
   "metadata": {},
   "outputs": [],
   "source": [
    "# inputs\n",
    "# Set the folder path where the remapped .nc file is located for MESH (it can be any remapped nc file)\n",
    "MESH_nc_forcing_file = '/scratch/mia725/SCRB/MESH/MESH_forcing.nc'\n",
    "output_path = '/scratch/mia725/SCRB/SUMMA/'"
   ]
  },
  {
   "cell_type": "markdown",
   "id": "bf783ae5-a8df-4564-b2f4-514f36fa1d95",
   "metadata": {},
   "source": [
    "# convert MESH forcing nc to SUMMA forcing"
   ]
  },
  {
   "cell_type": "code",
   "execution_count": 5,
   "id": "43181ffc-0dc1-4f58-9622-96c5beae765e",
   "metadata": {},
   "outputs": [],
   "source": [
    "write_summa_forcing(output_path, MESH_nc_forcing_file)"
   ]
  },
  {
   "cell_type": "markdown",
   "id": "7adf003a-0704-4e8d-8aec-2f6f063a3053",
   "metadata": {},
   "source": [
    "# write attribute nc file"
   ]
  },
  {
   "cell_type": "code",
   "execution_count": null,
   "id": "3eee5f11-c28a-4ef5-b6b3-e864ecaeffa1",
   "metadata": {},
   "outputs": [],
   "source": []
  }
 ],
 "metadata": {
  "kernelspec": {
   "display_name": "scienv",
   "language": "python",
   "name": "scienv"
  },
  "language_info": {
   "codemirror_mode": {
    "name": "ipython",
    "version": 3
   },
   "file_extension": ".py",
   "mimetype": "text/x-python",
   "name": "python",
   "nbconvert_exporter": "python",
   "pygments_lexer": "ipython3",
   "version": "3.10.2"
  }
 },
 "nbformat": 4,
 "nbformat_minor": 5
}
