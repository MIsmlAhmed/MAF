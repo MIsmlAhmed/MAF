{
 "cells": [
  {
   "cell_type": "code",
   "execution_count": 1,
   "id": "afe69d3e-4de2-4d18-8473-a609b0fa67ee",
   "metadata": {},
   "outputs": [],
   "source": [
    "# packages are loaded\n",
    "import xarray as xr\n",
    "import pint_xarray\n",
    "import glob\n",
    "import netCDF4 as nc4\n",
    "import os\n",
    "import pandas as pd\n",
    "from   easymore import Easymore"
   ]
  },
  {
   "cell_type": "code",
   "execution_count": 2,
   "id": "f55e7907-d9f1-4a10-af93-d95b695623e9",
   "metadata": {},
   "outputs": [],
   "source": [
    "# inputs\n",
    "# Set the folder path where the remapped .nc file is located for MESH (it can be any remapped nc file)\n",
    "nc_file_source = '/home/shg096/scratch/test/MESH/MESH_forcing.nc'\n",
    "path_to_save = '/home/shg096/scratch/test/SUMMA/'"
   ]
  },
  {
   "cell_type": "code",
   "execution_count": 3,
   "id": "fd8e21c5-04c9-493f-93ba-2e0e9dad1ec4",
   "metadata": {},
   "outputs": [],
   "source": [
    "if not os.path.isdir(path_to_save):\n",
    "    os.makedirs(path_to_save)"
   ]
  },
  {
   "cell_type": "code",
   "execution_count": 4,
   "id": "497909aa-ccf0-4038-a922-983737ece2af",
   "metadata": {},
   "outputs": [],
   "source": [
    "# rename the variables:\n",
    "ds = xr.open_dataset(nc_file_source)\n",
    "\n",
    "# time step of the data in seconds\n",
    "ds['data_step'] = 3600\n",
    "\n",
    "# rename the dictionary\n",
    "rename_dictionary = {'subbasin': 'hruId',\n",
    "                     'lat': 'latitude',\n",
    "                     'lon': 'longitude',\n",
    "                     'RDRS_v2.1_A_PR0_SFC': 'pptrate',\n",
    "                     'RDRS_v2.1_P_TT_1.5m': 'airtemp',\n",
    "                     'RDRS_v2.1_P_FB_SFC': 'SWRadAtm',\n",
    "                     'RDRS_v2.1_P_FI_SFC': 'LWRadAtm',\n",
    "                     'RDRS_v2.1_P_UVC_10m': 'windspd',\n",
    "                     'RDRS_v2.1_P_HU_1.5m': 'spechum',\n",
    "                     'RDRS_v2.1_P_P0_SFC': 'airpres'}\n",
    "ds = ds.rename_vars(rename_dictionary)\n",
    "ds = ds.rename({'subbasin': 'hru'})\n",
    "ds['hru'] = ds['hruId']\n",
    "\n",
    "ds = ds.transpose('time', 'hru') # to make sure the varibales are transposed"
   ]
  },
  {
   "cell_type": "code",
   "execution_count": 5,
   "id": "3b031e0b-537f-4eff-b0b8-e7ea41df1e73",
   "metadata": {},
   "outputs": [],
   "source": [
    "if not os.path.isdir(path_to_save):\n",
    "    os.makedirs(path_to_save)\n",
    "\n",
    "if os.path.isfile(path_to_save+'SUMMA_forcing.nc'):\n",
    "    os.remove(path_to_save+'SUMMA_forcing.nc')\n",
    "\n",
    "ds.to_netcdf(path_to_save+'SUMMA_forcing.nc')"
   ]
  },
  {
   "cell_type": "code",
   "execution_count": 6,
   "id": "45deeea2-1257-44a0-950a-97be6d0ff3b6",
   "metadata": {},
   "outputs": [],
   "source": [
    "# replace T in the time unit with space\n",
    "\n",
    "ncid = nc4.Dataset(path_to_save + 'SUMMA_forcing.nc', 'r+')\n",
    "\n",
    "# Access the 'units' attribute and replace 'T' with a space\n",
    "units_attribute = ncid['time'].units\n",
    "units_attribute = units_attribute.replace('T', ' ')\n",
    "\n",
    "# Update the 'units' attribute in the netCDF file\n",
    "ncid['time'].setncattr('units', units_attribute)\n",
    "\n",
    "# Close the netCDF file\n",
    "ncid.close()\n"
   ]
  },
  {
   "cell_type": "code",
   "execution_count": null,
   "id": "fd2029b9-01d1-4791-b990-6f0c7f6d73f8",
   "metadata": {},
   "outputs": [],
   "source": []
  }
 ],
 "metadata": {
  "kernelspec": {
   "display_name": "fhimp_venv",
   "language": "python",
   "name": "fhimp_venv"
  },
  "language_info": {
   "codemirror_mode": {
    "name": "ipython",
    "version": 3
   },
   "file_extension": ".py",
   "mimetype": "text/x-python",
   "name": "python",
   "nbconvert_exporter": "python",
   "pygments_lexer": "ipython3",
   "version": "3.10.2"
  }
 },
 "nbformat": 4,
 "nbformat_minor": 5
}
