{
 "cells": [
  {
   "cell_type": "markdown",
   "id": "ca4c49d7-498f-457a-8f6e-201da31829d4",
   "metadata": {},
   "source": [
    "# Create the model-agnostic.json file\n",
    "This script is used to create the control file that the model-agnostic framework uses to locate and extract the data. Editing the `json` file is a bit challangeing and things are made easy through this script."
   ]
  },
  {
   "cell_type": "code",
   "execution_count": 1,
   "id": "ec7ba153-8549-42b9-990a-f9827443dbce",
   "metadata": {},
   "outputs": [],
   "source": [
    "# load needed libraries\n",
    "import json"
   ]
  },
  {
   "cell_type": "markdown",
   "id": "c9dd6c16-cb06-4456-92b4-d40e3ef3d8de",
   "metadata": {},
   "source": [
    "# Define inputs\n",
    "## This currently works with the following datasets (RDRS v2.1, landsat, soil_class)\n",
    "## This uses the GWF account to locate the data"
   ]
  },
  {
   "cell_type": "code",
   "execution_count": 16,
   "id": "f6170a5d-ada0-42cc-a83d-12b5a03388e8",
   "metadata": {},
   "outputs": [],
   "source": [
    "# define paths\n",
    "#output directory (where all output/subdirectories will be created)\n",
    "output_dir = '/scratch/mia725/calibration_workflow/Bow_Banff'\n",
    "# define path to used tools\n",
    "# can be cloned from github to a specified location (git clone https://github.com/kasra-keshavarz/datatool.git)\n",
    "datatool_path = '/home/mia725/github-repos/datatool'\n",
    "# can be cloned from github to a specified location (git clone https://github.com/kasra-keshavarz/gistool.git)\n",
    "gistool_path = '/home/mia725/github-repos/gistool'\n",
    "\n",
    "\n",
    "\n",
    "\n",
    "\n",
    "\n",
    "# absloute path to the ectracted subbasins\n",
    "shapefile_path = '/scratch/mia725/calibration_workflow/Bow_Banff/MERIT_geofabric/extracted_subbasins.shp'\n"
   ]
  },
  {
   "cell_type": "code",
   "execution_count": 5,
   "id": "d7313e3d-677b-47d7-b276-09777f4cb184",
   "metadata": {},
   "outputs": [],
   "source": [
    "# Load the JSON file\n",
    "with open('./assets/model-agnostic_template.json', 'r') as file:\n",
    "    data = json.load(file)"
   ]
  },
  {
   "cell_type": "code",
   "execution_count": null,
   "id": "7ef22935-4ddb-45ee-980d-8447fc6da75c",
   "metadata": {},
   "outputs": [],
   "source": [
    "# Define the variable with the new shapefile location\n",
    "shapefile_location = '/new/path/to/shapefile.shp'"
   ]
  },
  {
   "cell_type": "code",
   "execution_count": 19,
   "id": "cf83d81e-042e-4af3-a4d9-bdfc6f9fdac0",
   "metadata": {},
   "outputs": [
    {
     "data": {
      "text/plain": [
       "{'dataset': 'RDRS',\n",
       " 'dataset-dir': '/project/rpp-kshook/Climate_Forcing_Data/meteorological-data/rdrsv2.1/',\n",
       " 'variable': ['RDRS_v2.1_P_P0_SFC',\n",
       "  'RDRS_v2.1_P_HU_09944',\n",
       "  'RDRS_v2.1_P_TT_09944',\n",
       "  'RDRS_v2.1_P_UVC_09944',\n",
       "  'RDRS_v2.1_A_PR0_SFC',\n",
       "  'RDRS_v2.1_P_FB_SFC',\n",
       "  'RDRS_v2.1_P_FI_SFC'],\n",
       " 'output-dir': '/home/mia725/scratch/scrb-models/datatool-outputs',\n",
       " 'start-date': '1980-01-01T13:00:00',\n",
       " 'end-date': '1980-01-5T12:00:00',\n",
       " 'lat-lims': '',\n",
       " 'lon-lims': '',\n",
       " 'shape-file': '/home/mia725/github-repos/community-workflows/1-geofabric/SCRB-geofabric/bb_subbasins.shp',\n",
       " 'model': '',\n",
       " 'ensemble': '',\n",
       " 'prefix': 'bb_model_',\n",
       " 'email': 'mohamedismaiel.ahmed@ucalgary.ca',\n",
       " 'account': 'rpp-kshook',\n",
       " '_flags': ['submit-job', 'parsable']}"
      ]
     },
     "execution_count": 19,
     "metadata": {},
     "output_type": "execute_result"
    }
   ],
   "source": [
    "# Update the 'fields' field\n",
    "data['exec']['met'] = datatool_path + '/extract-dataset.sh'\n",
    "data['exec']['gis'] = gistool_path + '/extract-gis.sh'\n",
    "\n",
    "data['args']['met'][0]['output-dir']"
   ]
  },
  {
   "cell_type": "code",
   "execution_count": null,
   "id": "a288ce01-40e9-4c38-ab9d-56511a27c4ed",
   "metadata": {},
   "outputs": [],
   "source": [
    "# Write the modified JSON back to a file\n",
    "with open('output.json', 'w') as file:\n",
    "    json.dump(data, file, indent=2)\n",
    "​\n",
    "print(\"The JSON file has been updated and saved as 'output.json'.\")"
   ]
  }
 ],
 "metadata": {
  "kernelspec": {
   "display_name": "scienv",
   "language": "python",
   "name": "scienv"
  },
  "language_info": {
   "codemirror_mode": {
    "name": "ipython",
    "version": 3
   },
   "file_extension": ".py",
   "mimetype": "text/x-python",
   "name": "python",
   "nbconvert_exporter": "python",
   "pygments_lexer": "ipython3",
   "version": "3.10.2"
  }
 },
 "nbformat": 4,
 "nbformat_minor": 5
}
