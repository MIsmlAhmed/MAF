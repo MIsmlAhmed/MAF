{
 "cells": [
  {
   "cell_type": "markdown",
   "id": "549645a9-c3ca-4d64-aaf9-e9c99f7b39ec",
   "metadata": {},
   "source": [
    "# write HYPE files"
   ]
  },
  {
   "cell_type": "code",
   "execution_count": 1,
   "id": "4ad8be20-040a-4dbf-8039-4d8cd36f47ed",
   "metadata": {},
   "outputs": [],
   "source": [
    "# load packages\n",
    "from hypeflow import *"
   ]
  },
  {
   "cell_type": "code",
   "execution_count": 2,
   "id": "83f85b81-9e5f-4d87-8e28-96456da3004d",
   "metadata": {},
   "outputs": [],
   "source": [
    "# inputs\n",
    "# Set the folder path where the remapped .nc file is located for MESH (it can be any remapped nc file)\n",
    "MESH_nc_forcing_file = '/scratch/mia725/SCRB/MESH/MESH_forcing.nc'\n",
    "output_path = '/scratch/mia725/SCRB/HYPE/'\n",
    "\n",
    "# path where all gistool outputs are saved\n",
    "gistool_output = '/scratch/mia725/SCRB/gistool-outputs/'\n",
    "# domain subbasins and rivers\n",
    "subbasins_shapefile = '/scratch/mia725/SCRB/MERIT_geofabric/extracted_subbasins.shp'\n",
    "rivers_shapefile = '/scratch/mia725/SCRB/MERIT_geofabric/extracted_rivers.shp'\n",
    "# spinup period in days\n",
    "spinup_days = 274"
   ]
  },
  {
   "cell_type": "markdown",
   "id": "38b3e3eb-d823-43e3-afce-f8d709f59408",
   "metadata": {},
   "source": [
    "# write hype forcing"
   ]
  },
  {
   "cell_type": "code",
   "execution_count": 3,
   "id": "75c5d031-d2e5-4d29-a6de-87bafe0463eb",
   "metadata": {},
   "outputs": [
    {
     "name": "stdout",
     "output_type": "stream",
     "text": [
      "EASYMORE version 2.0.0 is initiated.\n",
      "EASYMORE detects that the input datafarame is pandas dataframe\n",
      "EASYMORE detects that index is pandas datatime\n",
      "EASYMORE version 2.0.0 is initiated.\n",
      "EASYMORE detects that the input datafarame is pandas dataframe\n",
      "EASYMORE detects that index is pandas datatime\n",
      "EASYMORE version 2.0.0 is initiated.\n",
      "EASYMORE detects that the input datafarame is pandas dataframe\n",
      "EASYMORE detects that index is pandas datatime\n",
      "EASYMORE version 2.0.0 is initiated.\n",
      "EASYMORE detects that the input datafarame is pandas dataframe\n",
      "EASYMORE detects that index is pandas datatime\n"
     ]
    }
   ],
   "source": [
    "write_hype_forcing(MESH_nc_forcing_file, output_path)"
   ]
  },
  {
   "cell_type": "markdown",
   "id": "00a174a7-39fd-42f4-afd3-4c8924b6dd17",
   "metadata": {},
   "source": [
    "# write GeoClass and GeoData files"
   ]
  },
  {
   "cell_type": "code",
   "execution_count": 4,
   "id": "d041c9cc-4a79-4224-9d32-a4f4538f28a1",
   "metadata": {},
   "outputs": [
    {
     "name": "stderr",
     "output_type": "stream",
     "text": [
      "/home/mia725/github-repos/MAF/03_model_specific_component/02_hype/hypeflow.py:246: UserWarning: Geometry is in a geographic CRS. Results from 'centroid' are likely incorrect. Use 'GeoSeries.to_crs()' to re-project geometries to a projected CRS before this operation.\n",
      "\n",
      "  cat['latitude'] = cat.centroid.y\n",
      "/home/mia725/github-repos/MAF/03_model_specific_component/02_hype/hypeflow.py:247: UserWarning: Geometry is in a geographic CRS. Results from 'centroid' are likely incorrect. Use 'GeoSeries.to_crs()' to re-project geometries to a projected CRS before this operation.\n",
      "\n",
      "  cat['longitude'] = cat.centroid.x\n"
     ]
    }
   ],
   "source": [
    "write_hype_geo_files(gistool_output, subbasins_shapefile, rivers_shapefile, output_path)"
   ]
  },
  {
   "cell_type": "code",
   "execution_count": 5,
   "id": "051073e9-abc4-4d76-a980-321901201d06",
   "metadata": {},
   "outputs": [],
   "source": [
    "write_hype_par_file(output_path)"
   ]
  },
  {
   "cell_type": "code",
   "execution_count": 6,
   "id": "5712aa26-bf50-4d6d-b2ce-4f44e0a4974f",
   "metadata": {},
   "outputs": [],
   "source": [
    "write_hype_info_filedir_files(output_path, spinup_days)"
   ]
  },
  {
   "cell_type": "code",
   "execution_count": null,
   "id": "f6e4ad11-cc08-4f3f-9036-0edd4b4ab1ee",
   "metadata": {},
   "outputs": [],
   "source": []
  }
 ],
 "metadata": {
  "kernelspec": {
   "display_name": "scienv",
   "language": "python",
   "name": "scienv"
  },
  "language_info": {
   "codemirror_mode": {
    "name": "ipython",
    "version": 3
   },
   "file_extension": ".py",
   "mimetype": "text/x-python",
   "name": "python",
   "nbconvert_exporter": "python",
   "pygments_lexer": "ipython3",
   "version": "3.10.2"
  }
 },
 "nbformat": 4,
 "nbformat_minor": 5
}
