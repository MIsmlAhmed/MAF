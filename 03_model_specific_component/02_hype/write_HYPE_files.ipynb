{
 "cells": [
  {
   "cell_type": "markdown",
   "id": "549645a9-c3ca-4d64-aaf9-e9c99f7b39ec",
   "metadata": {},
   "source": [
    "# write HYPE files"
   ]
  },
  {
   "cell_type": "code",
   "execution_count": 1,
   "id": "4ad8be20-040a-4dbf-8039-4d8cd36f47ed",
   "metadata": {},
   "outputs": [],
   "source": [
    "# load packages\n",
    "from hypeflow import *"
   ]
  },
  {
   "cell_type": "code",
   "execution_count": 2,
   "id": "83f85b81-9e5f-4d87-8e28-96456da3004d",
   "metadata": {},
   "outputs": [],
   "source": [
    "# inputs\n",
    "# Set the folder path where the easymore mapped nc files are located\n",
    "easymore_output = '/Users/mohamed/Documents/Work/Model_Agnostic/sample_MAF_input/easymore-outputs'\n",
    "# provide the output path where the hype setup is written\n",
    "output_path = '/Users/mohamed/Documents/Work/Model_Agnostic/sample_MAF_input/HYPE_new/'\n",
    "timeshift = -6 # time shift in hours\n",
    "forcing_units= {\n",
    "    # required variable # name of var in input data, units in input data, required units for HYPE\n",
    "    'temperature': {'in_varname':'RDRS_v2.1_P_TT_09944', 'in_units':'celsius', 'out_units': 'celsius'},\n",
    "    'precipitation': {'in_varname':'RDRS_v2.1_A_PR0_SFC','in_units':'m/hr', 'out_units': 'mm/day'},\n",
    "}\n",
    "#mapping geofabric fields to model names\n",
    "geofabric_mapping ={\n",
    "    'basinID': {'in_varname':'COMID'},\n",
    "    'nextDownID': {'in_varname':'NextDownID'},\n",
    "    'area': {'in_varname':'unitarea', 'in_units':'km^2', 'out_units':'m^2'},\n",
    "    'rivlen': {'in_varname':'lengthkm', 'in_units':'km', 'out_units':'m'}\n",
    "}\n",
    "# path where all gistool outputs are saved\n",
    "gistool_output = '/Users/mohamed/Documents/Work/Model_Agnostic/sample_MAF_input/gistool-outputs/'\n",
    "# domain subbasins and rivers\n",
    "subbasins_shapefile = '/Users/mohamed/Documents/Work/Model_Agnostic/sample_MAF_input/MERIT_geofabric/extracted_subbasins.shp'\n",
    "rivers_shapefile = '/Users/mohamed/Documents/Work/Model_Agnostic/sample_MAF_input/MERIT_geofabric/extracted_rivers.shp'\n",
    "frac_threshold = 0.01 # fraction to exclude landcover with coverage less than this value\n",
    "# spinup period in days\n",
    "spinup_days = 274"
   ]
  },
  {
   "cell_type": "markdown",
   "id": "38b3e3eb-d823-43e3-afce-f8d709f59408",
   "metadata": {},
   "source": [
    "# write hype forcing"
   ]
  },
  {
   "cell_type": "code",
   "execution_count": 4,
   "id": "75c5d031-d2e5-4d29-a6de-87bafe0463eb",
   "metadata": {},
   "outputs": [
    {
     "name": "stdout",
     "output_type": "stream",
     "text": [
      "Merging easymore outputs to one NetCDF file \n",
      "\n",
      "|████████████████████████████████████████| 20/20 [100%] in 1:31.0 (0.21/s)      \n",
      "Get average daily values for HYPE \n",
      "\n",
      "EASYMORE version 2.0.0 is initiated.\n",
      "EASYMORE detects that the input datafarame is pandas dataframe\n",
      "EASYMORE detects that index is pandas datatime\n",
      "EASYMORE version 2.0.0 is initiated.\n",
      "EASYMORE detects that the input datafarame is pandas dataframe\n",
      "EASYMORE detects that index is pandas datatime\n",
      "EASYMORE version 2.0.0 is initiated.\n",
      "EASYMORE detects that the input datafarame is pandas dataframe\n",
      "EASYMORE detects that index is pandas datatime\n",
      "EASYMORE version 2.0.0 is initiated.\n",
      "EASYMORE detects that the input datafarame is pandas dataframe\n",
      "EASYMORE detects that index is pandas datatime\n"
     ]
    }
   ],
   "source": [
    "write_hype_forcing(easymore_output, timeshift, forcing_units, geofabric_mapping, output_path)"
   ]
  },
  {
   "cell_type": "markdown",
   "id": "00a174a7-39fd-42f4-afd3-4c8924b6dd17",
   "metadata": {},
   "source": [
    "# write GeoClass and GeoData files"
   ]
  },
  {
   "cell_type": "code",
   "execution_count": 5,
   "id": "d041c9cc-4a79-4224-9d32-a4f4538f28a1",
   "metadata": {},
   "outputs": [
    {
     "name": "stderr",
     "output_type": "stream",
     "text": [
      "/Users/mohamed/Documents/Work/Model_Agnostic/MAF/03_model_specific_component/02_hype/hypeflow.py:339: UserWarning: Geometry is in a geographic CRS. Results from 'centroid' are likely incorrect. Use 'GeoSeries.to_crs()' to re-project geometries to a projected CRS before this operation.\n",
      "\n",
      "  cat['latitude'] = cat.centroid.y\n",
      "/Users/mohamed/Documents/Work/Model_Agnostic/MAF/03_model_specific_component/02_hype/hypeflow.py:340: UserWarning: Geometry is in a geographic CRS. Results from 'centroid' are likely incorrect. Use 'GeoSeries.to_crs()' to re-project geometries to a projected CRS before this operation.\n",
      "\n",
      "  cat['longitude'] = cat.centroid.x\n"
     ]
    }
   ],
   "source": [
    "write_hype_geo_files(gistool_output, subbasins_shapefile, rivers_shapefile, frac_threshold, geofabric_mapping, output_path)"
   ]
  },
  {
   "cell_type": "markdown",
   "id": "f90f41e8",
   "metadata": {},
   "source": [
    "# write parameter file"
   ]
  },
  {
   "cell_type": "code",
   "execution_count": 6,
   "id": "051073e9-abc4-4d76-a980-321901201d06",
   "metadata": {},
   "outputs": [],
   "source": [
    "write_hype_par_file(output_path)"
   ]
  },
  {
   "cell_type": "markdown",
   "id": "446278c0",
   "metadata": {},
   "source": [
    "# write info and filedir files"
   ]
  },
  {
   "cell_type": "code",
   "execution_count": 7,
   "id": "5712aa26-bf50-4d6d-b2ce-4f44e0a4974f",
   "metadata": {},
   "outputs": [],
   "source": [
    "write_hype_info_filedir_files(output_path, spinup_days)"
   ]
  },
  {
   "cell_type": "code",
   "execution_count": null,
   "id": "f6e4ad11-cc08-4f3f-9036-0edd4b4ab1ee",
   "metadata": {},
   "outputs": [],
   "source": []
  }
 ],
 "metadata": {
  "kernelspec": {
   "display_name": "geospatial-env",
   "language": "python",
   "name": "python3"
  },
  "language_info": {
   "codemirror_mode": {
    "name": "ipython",
    "version": 3
   },
   "file_extension": ".py",
   "mimetype": "text/x-python",
   "name": "python",
   "nbconvert_exporter": "python",
   "pygments_lexer": "ipython3",
   "version": "3.9.19"
  }
 },
 "nbformat": 4,
 "nbformat_minor": 5
}
