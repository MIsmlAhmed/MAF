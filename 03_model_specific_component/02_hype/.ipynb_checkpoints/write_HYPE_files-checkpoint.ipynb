{
 "cells": [
  {
   "cell_type": "markdown",
   "id": "549645a9-c3ca-4d64-aaf9-e9c99f7b39ec",
   "metadata": {},
   "source": [
    "# write HYPE files"
   ]
  },
  {
   "cell_type": "code",
   "execution_count": 1,
   "id": "4ad8be20-040a-4dbf-8039-4d8cd36f47ed",
   "metadata": {},
   "outputs": [],
   "source": [
    "# load packages\n",
    "from hypeflow import *"
   ]
  },
  {
   "cell_type": "code",
   "execution_count": 2,
   "id": "83f85b81-9e5f-4d87-8e28-96456da3004d",
   "metadata": {},
   "outputs": [],
   "source": [
    "# inputs\n",
    "# Set the folder path where the remapped .nc file is located for MESH (it can be any remapped nc file)\n",
    "MESH_nc_forcing_file = '/scratch/mia725/calibration_workflow/Bow_Banff/MESH/MESH_forcing.nc'\n",
    "output_path = '/scratch/mia725/calibration_workflow/Bow_Banff/HYPE/'\n",
    "\n",
    "# path where all gistool outputs are saved\n",
    "gistool_output = '/scratch/mia725/calibration_workflow/Bow_Banff/gistool-outputs/'\n",
    "# domain subbasins and rivers\n",
    "subbasins_shapefile = '/scratch/mia725/calibration_workflow/Bow_Banff/MERIT_geofabric/extracted_subbasins.shp'\n",
    "rivers_shapefile = '/scratch/mia725/calibration_workflow/Bow_Banff/MERIT_geofabric/extracted_rivers.shp'\n",
    "# spinup period in days\n",
    "spinup_days = 30"
   ]
  },
  {
   "cell_type": "markdown",
   "id": "38b3e3eb-d823-43e3-afce-f8d709f59408",
   "metadata": {},
   "source": [
    "# write hype forcing"
   ]
  },
  {
   "cell_type": "code",
   "execution_count": 3,
   "id": "75c5d031-d2e5-4d29-a6de-87bafe0463eb",
   "metadata": {},
   "outputs": [
    {
     "name": "stdout",
     "output_type": "stream",
     "text": [
      "EASYMORE version 2.0.0 is initiated.\n",
      "EASYMORE detects that the input datafarame is pandas dataframe\n",
      "EASYMORE detects that index is pandas datatime\n",
      "EASYMORE version 2.0.0 is initiated.\n",
      "EASYMORE detects that the input datafarame is pandas dataframe\n",
      "EASYMORE detects that index is pandas datatime\n",
      "EASYMORE version 2.0.0 is initiated.\n",
      "EASYMORE detects that the input datafarame is pandas dataframe\n",
      "EASYMORE detects that index is pandas datatime\n",
      "EASYMORE version 2.0.0 is initiated.\n",
      "EASYMORE detects that the input datafarame is pandas dataframe\n",
      "EASYMORE detects that index is pandas datatime\n"
     ]
    }
   ],
   "source": [
    "write_hype_forcing(MESH_nc_forcing_file, output_path)"
   ]
  },
  {
   "cell_type": "markdown",
   "id": "00a174a7-39fd-42f4-afd3-4c8924b6dd17",
   "metadata": {},
   "source": [
    "# write GeoClass and GeoData files"
   ]
  },
  {
   "cell_type": "code",
   "execution_count": 4,
   "id": "d041c9cc-4a79-4224-9d32-a4f4538f28a1",
   "metadata": {},
   "outputs": [
    {
     "name": "stdout",
     "output_type": "stream",
     "text": [
      "{(4, 3.0), (16, 3.0), (17, 3.0), (7, 3.0), (18, 3.0), (8, 3.0), (19, 3.0), (10, 3.0), (1, 3.0), (9, 3.0), (11, 3.0), (12, 3.0), (2, 3.0), (13, 3.0), (3, 3.0), (14, 3.0), (15, 3.0), (5, 3.0), (6, 3.0)}\n",
      "19\n"
     ]
    },
    {
     "name": "stderr",
     "output_type": "stream",
     "text": [
      "/home/mia725/github-repos/MAF/03_model_specific_component/02_hype/hypeflow.py:246: UserWarning: Geometry is in a geographic CRS. Results from 'centroid' are likely incorrect. Use 'GeoSeries.to_crs()' to re-project geometries to a projected CRS before this operation.\n",
      "\n",
      "  cat['latitude'] = cat.centroid.y\n",
      "/home/mia725/github-repos/MAF/03_model_specific_component/02_hype/hypeflow.py:247: UserWarning: Geometry is in a geographic CRS. Results from 'centroid' are likely incorrect. Use 'GeoSeries.to_crs()' to re-project geometries to a projected CRS before this operation.\n",
      "\n",
      "  cat['longitude'] = cat.centroid.x\n"
     ]
    }
   ],
   "source": [
    "write_hype_geo_files(gistool_output, subbasins_shapefile, rivers_shapefile, output_path)"
   ]
  },
  {
   "cell_type": "code",
   "execution_count": 5,
   "id": "051073e9-abc4-4d76-a980-321901201d06",
   "metadata": {},
   "outputs": [
    {
     "name": "stdout",
     "output_type": "stream",
     "text": [
      "!!\t=======================================================================================================\t\t\t\t\t\t\t\t\t\t\t\t\t\t\t\t\n",
      "!! Parameter file for: Case Name\t\t\t\t\t\t\t\t\t\t\t\t\t\t\t\t\t\n",
      "!!\t------------------------\t\t\t\t\t\t\t\t\t\t\t\t\t\t\t\t\n",
      "!!\t\t\t\t\t\t\t\t\t\t\t\t\t\t\t\t\t\n",
      "!!\t=======================================================================================================\t\t\t\t\t\t\t\t\t\t\t\t\t\t\t\t\n",
      "!! METEOROLOGICAL INPUT - general parameters related to temperature and precipitation corrections\t\t\t\t\t\t\t\t\t\t\t\t\t\t\t\t\t\n",
      "!!\t-----\t\t\t\t\t\t\t\t\t\t\t\t\t\t\t\t\n",
      "!! All of these will be kept as 0 because we are not correcting the temperature or the precpitation\t\t\t\t\t\t\t\t\t\t\t\t\t\t\t\t\n",
      "tcobselev\t0\t!! parameter for temperature correction due to observation elevation deviation from subbasin elevation (deg C)\n",
      "tcalt\t0\t!! parameter for temperature’s elevation dependence\n",
      "tcelevadd\t0\t!! parameter for temperature’s elevation dependence\n",
      "pcaddg\t0\t!! correction parameter for precipitation\n",
      "pcusnow\t0\t!! undercatch correction for snowfall\n",
      "pcurain\t0\t!! undercatch correction for rainfall\n",
      "!!\t=======================================================================================================\t\t\t\t\t\t\t\t\t\t\t\t\t\t\t\t\n",
      "!!\t\"SNOWMELT, DISTRIBUTION, DENSITY, HEAT; sublimation is sorted under Evapotranspiration\"\t\t\t\t\t\t\t\t\t\t\t\t\t\t\t\t\n",
      "!!\t-----\t\t\t\t\t\t\t\t\t\t\t\t\t\t\t\t\n",
      "!!\t\"General snow accumulation and melt related parameters (baseline values from SHYPE, unless noted otherwise)\"\t\t\t\t\t\t\t\t\t\t\t\t\t\t\t\t\n",
      "!! Snow distribution submodel: 0, snow melt submodel: 2, snow density submodel: 0, snow heat submodel: 1 (including snkika below)\n",
      "ttpi\t1.7083\t!! half of temperature interval with mixed snow and rainfall\n",
      "sdnsnew\t0.13\t!! density of new-fallen snow (kg/dm3)\n",
      "snowdensdt\t0.0016\t!! increase of snow density per day\n",
      "fsceff\t0.99\t!! efficiency of snow cover to influence snow melt and snow evaporation\n",
      "cmrefr\t0.05\t!! refreeze efficiency compared to the degree-day snow melt factor Used for second snow melt model\n",
      "whcsnow\t0.08\t!! water holding capacity of snow\n",
      "!!\t-----\t\t\t\t\t\t\t\t\t\t\t\t\t\t\t\t\n",
      "!!\tSNOWMELT Landuse dependent parameters\t\t\t\t\t\t\t\t\t\t\t\t\t\n",
      "!!LUSE:\tLU1\tLU2\tLU3\tLU4\tLU5\tLU6\tLU7\tLU8\tLU9\tLU10\tLU11\tLU12\tLU13\tLU14\tLU15\tLU16\tLU17\tLU18\tLU19\n",
      "!! snowmelt submodel:2, snow heat submodel: 1\n",
      "ttmp\t-9.774\t-2.4419\t2.5478\t-3.8724\t2.9143\t-7.2759\t-6.1012\t-6.5266\t-1.8872\t-1.2143\t-9.9603\t-5.4364\t-9.774\t-9.774\t-9.774\t-9.774\t-9.774\t-9.774\t-9.774\t!! threshold temperature for snow melt snow density and evapotranspiration\n",
      "cmlt\t9.7021\t6.0035\t1.1786\t9.3525\t1.7176\t5.8523\t4.1957\t8.6383\t8.009\t5.4865\t1.101\t5.515\t9.7021\t9.7021\t9.7021\t9.7021\t9.7021\t9.7021\t9.7021\t!! melting parameter for snow\n",
      "cmrad\t0.249065876\t0.249065876\t1.5\t0.176534861\t0.685361445\t0.174564317\t0.174564317\t0.174564317\t0.174564317\t0.685361445\t0.501842737\t0.011482887\t0.249065876\t0.249065876\t0.249065876\t0.249065876\t0.249065876\t0.249065876\t0.249065876\t!! coefficient for radiation snow melt, parameter for second snowmelt model\n",
      "snalbmin\t0.524781764\t0.524781764\t0.45\t0.250044137\t0.243925437\t0.251664609\t0.251664609\t0.251664609\t0.251664609\t0.243925437\t0.409460604\t0.22856541\t0.524781764\t0.524781764\t0.524781764\t0.524781764\t0.524781764\t0.524781764\t0.524781764\t!! parameter for second snowmelt model\n",
      "snalbmax\t0.85\t0.85\t0.85\t0.85\t0.85\t0.85\t0.85\t0.85\t0.85\t0.85\t0.85\t0.85\t0.85\t0.85\t0.85\t0.85\t0.85\t0.85\t0.85\t!! parameter for second snowmelt model\n",
      "snalbkexp\t0.1\t0.1\t0.1\t0.1\t0.1\t0.1\t0.1\t0.1\t0.1\t0.1\t0.1\t0.1\t0.1\t0.1\t0.1\t0.1\t0.1\t0.1\t0.1\t!! parameter for second snowmelt model\n",
      "snkika\t50\t50\t50\t50\t50\t50\t50\t50\t50\t50\t50\t50\t50\t50\t50\t50\t50\t50\t50\t!! snow heat model, relation between snow thermal conductivity and surface heat exchange coefficient\n",
      "!!\t-----\t\t\t\t\t\t\t\t\t\t\t\t\t\t\t\t\n",
      "!!\tSNOWCOVER parameters (general and landuse) - baseline from Rossby RCA model (Samuelsson et al 2006;Lindström et al)\t\t\t\t\t\t\t\t\t\t\t\t\t\t\t\t\n",
      "!!LUSE:\tLU1\tLU2\tLU3\tLU4\tLU5\tLU6\tLU7\tLU8\tLU9\tLU10\tLU11\tLU12\tLU13\tLU14\tLU15\tLU16\tLU17\tLU18\tLU19\n",
      "!! used in SNOWMELT submodel:2 \n",
      "fscdistmax\t0.8\t0.8\t0.8\t0.8\t0.8\t0.8\t0.8\t0.8\t0.8\t0.8\t0.8\t0.8\t0.8\t0.8\t0.8\t0.8\t0.8\t0.8\t0.8\t!! maximum snow distribution factor\n",
      "fscdist0\t0.571998656\t0.571998656\t0.6\t0.672227979\t0.718591213\t0.672161579\t0.672161579\t0.672161579\t0.672161579\t0.718591213\t0.302164137\t0.663832068\t0.663832068\t0.663832068\t0.663832068\t0.663832068\t0.663832068\t0.663832068\t0.663832068\t!! minimum snow distribution factor\n",
      "fscdist1\t0.001\t0.001\t0.001\t0.001\t0.001\t0.001\t0.001\t0.001\t0.001\t0.001\t0.001\t0.001\t0.001\t0.001\t0.001\t0.001\t0.001\t0.001\t0.001\t!! std coefficient for snow distribution factor parameter for second snowmelt model\n",
      "fscmax\t1.0\t!! maximum fractional snow cover area\n",
      "fscmin\t0.01\t!! minimum fractional snow cover area\n",
      "fsclim\t0.001\t!! limit of fractional snow cover area for onset of snowmax\n",
      "fsck1\t0.2\t!! Snowmass threshold to start decreasing the internal snowmax variable towards the end of the melt season\n",
      "fsckexp\t1e-06\t!! Coefficient in exponential decrease of the internal Snowmax variable\n",
      "!!\t=======================================================================================================\t\t\t\t\t\t\t\t\t\t\t\t\t\t\t\t\n",
      "!!\t\"GLACIER - parameters for volume-area scaling, accumulation and melt (sublimation sorted under Evapotranspiration)\"\t\t\t\t\t\t\t\t\t\t\t\t\t\t\t\t\n",
      "!!\t-----\t\t\t\t\t\t\t\t\t\t\t\t\t\t\t\t\n",
      "!!\tGlacier volume-area scaling\t\n",
      "!! the parameters used calculate the area of the glaciers\n",
      "glacvexp\t1.395\t!! exponent of glacier area-volume relationship for glacier of type zero\n",
      "glacvcoef\t0.17157\t!! coefficient of glacier area-volume relationship for glacier of type zero\n",
      "glacvexp1\t1.25\t!! exponent of glacier area-volume relationship for glacier of type one)\n",
      "glacvcoef1\t2.88364\t!! coefficient of glacier area-volume relationship for glacier of type one\n",
      "glac2arlim\t25000000\t!! area limit for determine glacier type which is used only if glacier type is given in GlacierData.txt\n",
      "glacannmb\t0\t!! annual mass balance for correction of initial glacier volume\n",
      "!!\t-----\t\t\t\t\t\t\t\t\t\t\t\t\t\t\t\t\n",
      "!!\tGlacier melt parameters \t\t\t\t\t\t\t\t\t\t\t\t\t\t\t\t\n",
      "!!\t----\t\t\t\t\t\t\t\t\t\t\t\t\t\t\t\t\n",
      "!! considered with snowevaporation submodel: 1, snowmelt submodel 2\n",
      "glacttmp\t0\t!! threshold temperature for glacier melt\n",
      "glaccmlt\t1.58595482\t!! melting parameter for glacier\n",
      "glaccmrad\t0.19090136\t!! coefficient for radiation glacier melt parameter for second snowmelt model\n",
      "glaccmrefr\t0.06259448\t!! refreeze efficiency compared to the degree-day glacier melt factor parameter for second snow meltmodel\n",
      "glacalb\t0.35\t!! albedo for glacier ice\n",
      "fepotglac\t0\t!! fraction of snow-free potential evapotranspiration for first snowevaporation model\n",
      "!!\t=======================================================================================================\t\t\t\t\t\t\t\t\t\t\t\t\t\t\t\t\n",
      "!!\tEVAPOTRANSPIRATION PARAMETERS\t\t\t\t\t\t\t\t\t\t\t\t\t\t\t\t\n",
      "!!\t-----\t\t\t\t\t\t\t\t\t\t\t\t\t\t\t\t\n",
      "!!\tGeneral evapotranspiration parameters\t\t\t\t\t\t\t\t\t\t\t\t\t\t\t\t\n",
      "!! used for petmodel\n",
      "lp\t0.546\t!! Threshold for water content reduction of transpiration as fraction of field capacity\n",
      "epotdist\t0.546\t!! Coefficient in exponential function for potential evapotranspiration's depth dependency\n",
      "krs\t0.546\t!! parameter for estimating shortwave radiation used in the third petmodel\n",
      "jhtadd\t0.546\t!! parameter for second petmodel\n",
      "jhtscale\t0.546\t!! parameter for second petmodel\n",
      "!!\t-----\t\t\t\t\t\t\t\t\t\t\t\t\t\t\t\t\n",
      "!!\t\t\t\t\t\t\t\t\t\t\t\t\t\t\t\t\t\n",
      "!!LUSE:\tLU1\tLU2\tLU3\tLU4\tLU5\tLU6\tLU7\tLU8\tLU9\tLU10\tLU11\tLU12\tLU13\tLU14\tLU15\tLU16\tLU17\tLU18\tLU19\n",
      "kc3\t1.017511845\t1.017511845\t1.201224208\t1.334493399\t1.265059352\t1.020708799\t1.020708799\t1.020708799\t1.020708799\t1.265059352\t1.342448354\t1.024959087\t1.024959087\t1.024959087\t1.024959087\t1.024959087\t1.024959087\t1.024959087\t1.024959087\t!! crop coefficient for third petmodel\n",
      "alb\t0.476534277\t0.476534277\t0.7\t0.45542863\t0.669192433\t0.799822092\t0.799822092\t0.799822092\t0.799822092\t0.669192433\t0.400103867\t0.479658425\t0.479658425\t0.479658425\t0.479658425\t0.479658425\t0.479658425\t0.479658425\t0.479658425\t!! albedo for petmodels\n",
      "ttrig\t0\t0\t0\t0\t0\t0\t0\t0\t0\t0\t0\t0\t0\t0\t0\t0\t0\t0\t0\t!! temperature threshold for soil temperature control on soil evapotranspiration\n",
      "treda\t0.84\t0.84\t0.84\t0.84\t0.95\t0.95\t0.95\t0.95\t0.95\t0.7\t0.9\t0.8\t0.8\t0.8\t0.8\t0.8\t0.8\t0.8\t0.8\t!! soil temperature control on soil evapotranspiration\n",
      "tredb\t0.4\t0.4\t0.4\t0.4\t0.4\t0.4\t0.4\t0.4\t0.4\t0.4\t0.4\t0.4\t0.4\t0.4\t0.4\t0.4\t0.4\t0.4\t0.4\t!! soil temperature control on soil evapotranspiration\n",
      "cevp\t0.22\t0.22\t1.6\t1.9\t0.17\t0.17\t0.17\t0.17\t0.17\t0.1\t0.21\t0.07\t0.07\t0.07\t0.07\t0.07\t0.07\t0.07\t0.07\t!! evapotranspiration parameter\n",
      "fepotsnow\t0.912879467\t0.912879467\t0.18\t0.533387661\t0.460848987\t0.12002416\t0.12002416\t0.12002416\t0.12002416\t0.460848987\t0.206956849\t0.197802201\t0.197802201\t0.197802201\t0.197802201\t0.197802201\t0.197802201\t0.197802201\t0.197802201\t!! fraction of snow-free potential evapotranspiration, used for calculation of snow evaporation\n",
      "!!======================================================\t\t\t\t\t\t\t\t\t\t\t\t\t\t\t\t\t\n",
      "!! Frozen soil infiltration parameters\t\t\t\t\t\t\t\t\t\t\t\t\t\t\t\t\t\n",
      "!! General and specific frozen soil \n",
      "!! SOIL:\tS1\tS2\tS3\tS4\tS5\tS6\tS7\tS8\tS9\tS10\tS11\tS12\t\t\t\t\t\n",
      "!! for frozen soil submodel: 2\n",
      "deepmem\t1000\t!! deep soil temperature memory\n",
      "bfroznsoil\t2.1\t2.1\t2.1\t2.1\t2.1\t2.1\t2.1\t2.1\t2.1\t2.1\t2.1\t2.1\t!! ??\n",
      "logsatmp\t1.15\t1.15\t1.88\t1.59\t1.88\t2.17\t2.46\t2.46\t2.46\t2.46\t2.46\t2.46\t!! coefficient in unfrozen soil water content function\n",
      "bcosby\t4.74\t4.74\t5.33\t7.22\t5.33\t3.44\t1.55\t1.55\t1.55\t1.55\t1.55\t1.55\t!! coefficient in unfrozen soil water content function\n",
      "!! ------------\n",
      "!! Frozen soil infiltration parameters\t\t\t\t\t\t\t\t\t\t\t\t\t\t\t\n",
      "!!Land use parameters\t\t\t\t\t\t\t\t\t\t\t\t\t\t\t\t\t\n",
      "!!LUSE:\tLU1\tLU2\tLU3\tLU4\tLU5\tLU6\tLU7\tLU8\tLU9\tLU10\tLU11\tLU12\tLU13\tLU14\tLU15\tLU16\tLU17\tLU18\tLU19\n",
      "surfmem\t17.8\t17.8\t17.8\t17.8\t5.15\t5.15\t5.15\t5.15\t5.15\t5.15\t5.15\t5.15\t5.15\t5.15\t5.15\t5.15\t5.15\t5.15\t5.15\t!! upper soil layer soil temperature memory\n",
      "depthrel\t1.1152\t1.1152\t1.1152\t1.1152\t2.47\t2.47\t2.47\t2.47\t2.47\t2.47\t2.47\t2.47\t2.47\t2.47\t2.47\t2.47\t2.47\t2.47\t2.47\t!! depth relation for soil temperature memory\n",
      "frost\t2\t2\t2\t2\t2\t2\t2\t2\t2\t2\t2\t2\t2\t2\t2\t2\t2\t2\t2\t!! frost depth parameter\n",
      "!!\t=======================================================================================================\t\t\t\t\t\t\t\t\t\t\t\t\t\t\t\t\n",
      "!!\t\"SOIL/LAND HYDRAULIC RESPONSE PARAMETERS - recession coef., water retention, infiltration, macropore, surface runoff; etc.\"\t\t\t\t\t\t\t\t\t\t\t\t\t\t\t\t\n",
      "!!\t-----\t\t\t\t\t\t\t\t\t\t\t\t\t\t\t\t\n",
      "!!\tSoil-class parameters\t\t\t\t\t\t\t\t\t\t\t\t\t\t\t\t\n",
      "!!\tS1\tS2\tS3\tS4\tS5\tS6\tS7\tS8\tS9\tS10\tS11\tS12\t\t\t\t\t\n",
      "!! surfacerunoff submodel: 0, soilleakage submodel: 0\n",
      "!! recession coefficient for surface runoff should be set to one for lake and riverclasses with floodplains\n",
      "rrcs1\t0.3201\t0.2982\t0.2663\t0.451\t0.1637\t0.1637\t0.1637\t0.1637\t0.1637\t0.1637\t0.1637\t0.1637\t!! recession coefficient for uppermost soil layer\n",
      "rrcs2\t0.1612\t0.0858\t0.1422\t0.0112\t0.1914\t0.1914\t0.1914\t0.1914\t0.1914\t0.1914\t0.1914\t0.1914\t!! recession coefficient for lowest soil layer\n",
      "trrcs\t0.15\t0.15\t0.15\t0.15\t0.15\t0.15\t0.15\t0.15\t0.15\t0.15\t0.15\t0.15\t!! recession coefficient for tile drains\n",
      "mperc1\t63.9842\t119.5863\t93.9854\t111.8318\t20.1177\t20.1177\t20.1177\t20.1177\t20.1177\t20.1177\t20.1177\t20.1177\t!! maximum percolation capacity from soil layer one to soil layer two\n",
      "mperc2\t97.6492\t12.5429\t20.0276\t79.481\t12.0754\t12.0754\t12.0754\t12.0754\t12.0754\t12.0754\t12.0754\t12.0754\t!! maximum percolation capacity from soil layer two to soil layer three\n",
      "sfrost\t1\t1\t1\t1\t1\t1\t1\t1\t1\t1\t1\t1\t!! frost depth parameter\n",
      "srrate\t0.4975\t0.4489\t0.1874\t0.4499\t0.4956\t0.4956\t0.4956\t0.4956\t0.4956\t0.4956\t0.4956\t0.4956\t!! fraction for surface runoff\n",
      "wcwp1\t0.2732\t0.214\t0.1479\t0.4233\t0.4941\t0.4941\t0.4941\t0.4941\t0.4941\t0.4941\t0.4941\t0.4941\t!! wilting point as a fraction for uppermost soil layer\n",
      "wcwp2\t0.2293\t0.256\t0.0984\t0.4303\t0.1308\t0.1308\t0.1308\t0.1308\t0.1308\t0.1308\t0.1308\t0.1308\t!! wilting point as a fraction for second soil layer\n",
      "wcwp3\t0.3257\t0.058\t0.3639\t0.0433\t0.3632\t0.3632\t0.3632\t0.3632\t0.3632\t0.3632\t0.3632\t0.3632\t!! wilting point as a fraction for lowest soil layer\n",
      "wcfc1\t0.4344\t0.1758\t0.3526\t0.4812\t0.4894\t0.4894\t0.4894\t0.4894\t0.4894\t0.4894\t0.4894\t0.4894\t!! fraction of soil available for evapotranspiration but not for runoff for uppermost soil layer\n",
      "wcfc2\t0.1392\t0.1966\t0.3818\t0.1163\t0.2385\t0.2385\t0.2385\t0.2385\t0.2385\t0.2385\t0.2385\t0.2385\t!! fraction of soil available for evapotranspiration but not for runoff for second soil layer\n",
      "wcfc3\t0.2307\t0.2075\t0.4055\t0.077\t0.343\t0.343\t0.343\t0.343\t0.343\t0.343\t0.343\t0.343\t!! fraction of soil available for evapotranspiration but not for runoff for lowest soil layer\n",
      "wcep1\t0.8729\t0.4168\t0.8743\t0.5142\t0.0117\t0.0117\t0.0117\t0.0117\t0.0117\t0.0117\t0.0117\t0.0117\t!! effective porosity as a fraction for uppermost soil layer\n",
      "wcep2\t0.1177\t0.2773\t0.0329\t0.8547\t0.087\t0.087\t0.087\t0.087\t0.087\t0.087\t0.087\t0.087\t!! effective porosity as a fraction for second soil layer\n",
      "wcep3\t0.3064\t0.8004\t0.5832\t0.474\t0.8299\t0.8299\t0.8299\t0.8299\t0.8299\t0.8299\t0.8299\t0.8299\t!! effective porosity as a fraction for lowest soil layer\n",
      "rrcs3\t0.1612\t!! recession coefficient for slope dependence (upper layer) ???\n",
      "!! ------------\n",
      "!! Frozen soil infiltration parameters\t\t\t\t\t\t\t\t\t\t\t\t\t\t\t\n",
      "!!Land use parameters\t\t\t\t\t\t\t\t\t\t\t\t\t\t\t\t\t\n",
      "!!LUSE:\tLU1\tLU2\tLU3\tLU4\tLU5\tLU6\tLU7\tLU8\tLU9\tLU10\tLU11\tLU12\tLU13\tLU14\tLU15\tLU16\tLU17\tLU18\tLU19\n",
      "srrcs\t0.1259\t0.0701\t0.187\t0.1977\t0.0951\t0.1208\t0.1594\t0.0694\t0.1136\t0.0575\t1\t0.1213\t0.1213\t0.1213\t0.1213\t0.1213\t0.1213\t0.1213\t0.1213\t!! (landuse) recession coefficient for surface runoff should be set to one for lake and riverclasses with floodplains\n",
      "!!\t-----\t\t\t\t\t\t\t\t\t\t\t\t\t\t\t\t\n",
      "!!\tRegional or deep groundwater outflow\t\t\t\t\t\t\t\t\t\t\t\t\t\t\t\t\n",
      "!! for deepground submodel: 0\n",
      "rcgrw\t0.0\t!! recession coefficient for regional groundwater outflow from soil layers (set to zero because we are not considering deepground)\n",
      "!!\t\t\t\t\t\t\t\t\t\t\t\t\t\t\t\t\t\n",
      "!!\t=======================================================================================================\t\t\t\t\t\t\t\t\t\t\t\t\t\t\t\t\n",
      "!!\tRIVER ROUTING\t\t\t\t\t\t\t\t\t\t\t\t\t\t\t\t\n",
      "!!\t-----\t\t\t\n",
      "!! for riverflow submodel:1?\n",
      "damp\t0.1614\t!! fraction of delay in the watercourse which also causes damping\n",
      "rivvel\t9.9267\t!! celerity of flood in watercourse\n",
      "qmean\t200\t!! initial value for calculation of mean flow \n",
      "\n"
     ]
    }
   ],
   "source": [
    "write_hype_par_file(output_path)"
   ]
  },
  {
   "cell_type": "code",
   "execution_count": 6,
   "id": "5712aa26-bf50-4d6d-b2ce-4f44e0a4974f",
   "metadata": {},
   "outputs": [],
   "source": [
    "write_hype_info_filedir_files(output_path, spinup_days)"
   ]
  },
  {
   "cell_type": "code",
   "execution_count": null,
   "id": "f6e4ad11-cc08-4f3f-9036-0edd4b4ab1ee",
   "metadata": {},
   "outputs": [],
   "source": []
  }
 ],
 "metadata": {
  "kernelspec": {
   "display_name": "scienv",
   "language": "python",
   "name": "scienv"
  },
  "language_info": {
   "codemirror_mode": {
    "name": "ipython",
    "version": 3
   },
   "file_extension": ".py",
   "mimetype": "text/x-python",
   "name": "python",
   "nbconvert_exporter": "python",
   "pygments_lexer": "ipython3",
   "version": "3.10.2"
  }
 },
 "nbformat": 4,
 "nbformat_minor": 5
}
